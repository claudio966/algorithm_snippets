{
  "nbformat": 4,
  "nbformat_minor": 0,
  "metadata": {
    "colab": {
      "provenance": []
    },
    "kernelspec": {
      "name": "python3",
      "display_name": "Python 3"
    },
    "language_info": {
      "name": "python"
    }
  },
  "cells": [
    {
      "cell_type": "markdown",
      "source": [
        "## Cocktail Sort"
      ],
      "metadata": {
        "id": "-4Kwr2Qmgl6B"
      }
    },
    {
      "cell_type": "code",
      "execution_count": null,
      "metadata": {
        "id": "eKcvwi6Cgb2c"
      },
      "outputs": [],
      "source": [
        "def cocktail_sort(array):\n",
        "    len_array = len(array)\n",
        "    swap = True\n",
        "    start = 0\n",
        "    end = len_array - 1\n",
        "\n",
        "    # while there was a swap move, do it\n",
        "    while (swap):\n",
        "        swap = False\n",
        "        # Go through by array in foward move\n",
        "        for i in range(start, end):\n",
        "            if (array[i] > array[i + 1]):\n",
        "                array[i], array[i + 1] = array[i + 1], array[i]\n",
        "                swap = True\n",
        "\n",
        "        # Test if anything went moved. In the negative case,\n",
        "        # that means the array is sorted\n",
        "        if (not swap):\n",
        "            break  \n",
        "        \n",
        "        swap = False\n",
        "        # Update the end point, once it's garaunted that point will be\n",
        "        # in the right spot\n",
        "        end = end - 1\n",
        "\n",
        "        # Go through by array in reverse move\n",
        "        for j in range (end - 1, start - 1, -1):\n",
        "            if (array[j] > array[j + 1]):\n",
        "                array[j], array[j + 1] = array[j + 1], array[j]\n",
        "                swap = True\n",
        "\n",
        "        # Update the start point, once it's garaunted that previous one point will be\n",
        "        # in the right spot \n",
        "        start = start + 1\n",
        "    return array"
      ]
    },
    {
      "cell_type": "markdown",
      "source": [
        "## Cocktail Sort Test"
      ],
      "metadata": {
        "id": "iBnL7wAxiQwD"
      }
    },
    {
      "cell_type": "code",
      "source": [
        "array = [9, 5, 2, 6, 4, 0, 7, 3, 8]\n",
        "print(cocktail_sort(array))"
      ],
      "metadata": {
        "colab": {
          "base_uri": "https://localhost:8080/"
        },
        "id": "darSeUEPiVbJ",
        "outputId": "c3d3f989-5859-4245-eef6-5f061a96830b"
      },
      "execution_count": null,
      "outputs": [
        {
          "output_type": "stream",
          "name": "stdout",
          "text": [
            "[0, 2, 3, 4, 5, 6, 7, 8, 9]\n"
          ]
        }
      ]
    },
    {
      "cell_type": "markdown",
      "source": [
        "## Cocktail Sort Benchmark"
      ],
      "metadata": {
        "id": "cx_H8ILiggV9"
      }
    },
    {
      "cell_type": "code",
      "source": [
        "import timeit\n",
        "import matplotlib.pyplot as plt\n",
        "import random\n",
        "\n",
        "times_for_cocktail_sort = []\n",
        "arrays = []\n",
        "random_list = []\n",
        "lengths = 1100\n",
        "\n",
        "# generate random list with several differentes sizes  \n",
        "for l in range(lengths):\n",
        "    random_list = [random.randrange(1, 50, 1) for i in range(l)]\n",
        "    arrays.append(random_list)\n",
        "\n",
        "# Execute the code and store the associated time\n",
        "for i in range(len(arrays)):\n",
        "    start_time_cocktail_sort = timeit.default_timer()\n",
        "    cocktail_sort(arrays[i])\n",
        "    times_for_cocktail_sort.append(timeit.default_timer() - start_time_cocktail_sort)\n",
        "\n",
        "# Plot the chart\n",
        "fig = plt.figure()\n",
        "ax1 = fig.add_subplot(211)  \n",
        "ax1.set_title(\"Cocktail Sort\")\n",
        "ax1.set_ylabel(\"Time (s)\")\n",
        "ax1.set_xlabel('Length of Array')\n",
        "ax1.plot(times_for_cocktail_sort)\n",
        "\n",
        "plt.show()"
      ],
      "metadata": {
        "colab": {
          "base_uri": "https://localhost:8080/",
          "height": 177
        },
        "id": "9NfEUL2ZgfuQ",
        "outputId": "1297a0f7-5520-4ab3-8444-19b3b9bc6df7"
      },
      "execution_count": 65,
      "outputs": [
        {
          "output_type": "display_data",
          "data": {
            "text/plain": [
              "<Figure size 432x288 with 1 Axes>"
            ],
            "image/png": "[encoded data removed]"
          },
          "metadata": {
            "needs_background": "light"
          }
        }
      ]
    }
  ]
}