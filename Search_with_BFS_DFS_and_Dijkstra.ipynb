{
  "cells": [
    {
      "cell_type": "markdown",
      "metadata": {
        "id": "46_bQ5vlyf7T"
      },
      "source": [
        "### Graph class with adjacency list\n",
        "- Used to implement DFS, BFS and Dijkstra algorithms"
      ]
    },
    {
      "cell_type": "code",
      "execution_count": 1,
      "metadata": {
        "id": "KvQuVQnayZvk"
      },
      "outputs": [],
      "source": [
        "import sys\n",
        "import matplotlib.pyplot as plt\n",
        "\n",
        "class Graph:\n",
        "    # Constructor Method for graph class\n",
        "    def __init__(self, nodes, isWeighted, isDirected):\n",
        "        self.isDirected = isDirected            \n",
        "        self.nodes = nodes              # Assign the number of the nodes of the graph\n",
        "        self.isWeighted = isWeighted     \n",
        "        self.edges = [[] for node in range(self.nodes)]     # adjacency list of the graph\n",
        "    \n",
        "    # Print method for debug purposes\n",
        "    def print(self):\n",
        "        for i in range(self.nodes - 1):\n",
        "            print(f\"In the node {i} we have edge (destino, valor):{self.nodes[i]}\\n\")\n",
        "\n",
        "    # Insert a edge in the graph\n",
        "    def insert_edge(self, source, dest, weight):                       \n",
        "        # Check if the graph is valid\n",
        "        if self.nodes == 0:                                                  \n",
        "            return\n",
        "        # Check if the edge is valid\n",
        "        if source < 0 or source>=self.nodes or dest<0 or dest>=self.nodes:    \n",
        "            return\n",
        "\n",
        "        self.edges[source].append([dest, weight]) \n",
        "        # if it's not directed, the process repeat symmetrically \n",
        "        if not self.isDirected:                                                  \n",
        "            self.edges[dest].append([source, weight])\n",
        "        \n",
        "    # Polymorphic method for not weighted graph\n",
        "    def insert_edge(self, source, dest, weight = 0):     \n",
        "        # Check if the graph is valid\n",
        "        if self.nodes == 0:                                                  \n",
        "            return\n",
        "        # Check if the edge is valid\n",
        "        if source < 0 or source>=self.nodes or dest<0 or dest>=self.nodes:    \n",
        "            return\n",
        "        \n",
        "        self.edges[source].append([dest, weight])                                     \n",
        "        # if it's not directed, the process repeat simmetrically \n",
        "        if not self.isDirected:                                                   \n",
        "            self.edges[dest].append([source, weight])\n",
        "\n",
        "    # Get the degree of the node      \n",
        "    def get_degree(self, source):\n",
        "        if self.isDirected:\n",
        "            input_deg = 0\n",
        "            # Get the output degree of the node\n",
        "            for i in range(self.nodes): \n",
        "                k = 0\n",
        "                while k < len(self.edges[i]):\n",
        "                    # Check the number of incident edge in the node\n",
        "                    if self.edges[i][k][0] == source:\n",
        "                        input_deg = input_deg + 1\n",
        "                    k = k + 1\n",
        "            # Return a list with input and output degree\n",
        "            return [input_deg, len(self.edges[source])]\n",
        "        else:\n",
        "            # Not being directed, return a list with unique value, the expect\n",
        "            # degree\n",
        "            return [len(self.get_adj_list(source))]\n",
        "\n",
        "    ## Get adjancency list of the graph\n",
        "    def get_adj_list(self, source):\n",
        "        return self.edges[source]\n",
        "\n",
        "    ## get the number of the nodes in the graph\n",
        "    def get_n_nodes(self):\n",
        "        return self.nodes\n",
        "\n",
        "    def get_degree(self, source):\n",
        "        if self.isDirected:\n",
        "            input_degree = 0\n",
        "            # Check output degree for each node\n",
        "            for i in range(self.nodes): \n",
        "                k = 0\n",
        "                while k < len(self.edges[i]):\n",
        "                    # Check incident edge in the input of the node\n",
        "                    if self.edge[i][k][0] == source:\n",
        "                        input_degree = input_degree + 1\n",
        "                    k = k + 1\n",
        "            # The method returns a list with input and ouput degree\n",
        "            return [input_degree, len(self.edges[source])]\n",
        "        else:\n",
        "            # Don't being a directed graph, return the degree of the node\n",
        "            return [len(self.get_adj_list(source))]   \n",
        "\n",
        "    ## Auxiliary method used in the Dijkstra algorithm\n",
        "    def min_distance(self, distance, visited, source):\n",
        "        min_node = source\n",
        "        ## A value extremely bigger. An abstraction of infinity\n",
        "        min = sys.maxsize\n",
        "\n",
        "        ## Defines the node with shortest distance not yet visited\n",
        "        for i in range(self.nodes):\n",
        "            if distance[i] < min and  visited[i] == False:\n",
        "                min = distance[i]\n",
        "                min_node = i\n",
        "        return min_node\n",
        "\n",
        "    # Method that implments Dijsktra Algorithm\n",
        "    def dijkstra(self, source):\n",
        "        # Initialize an array with values extremely high\n",
        "        distance = [sys.maxsize] * self.nodes\n",
        "        # Assign 0 to distance in the source node\n",
        "        distance[source] = 0\n",
        "        visited = [False] * self.nodes\n",
        "        min_node = 0\n",
        "\n",
        "        # Ok, i know, it's extremely inefficient :). In this way\n",
        "        # take a look in a graph implemented with\n",
        "        # adjacency matrix, it's a better approach.\n",
        "        for k in range(self.nodes):\n",
        "            min_node = self.min_distance(distance, visited, k)\n",
        "            for i in range(self.nodes):\n",
        "                for j in range(self.nodes):\n",
        "                    for m in self.get_adj_list(j):\n",
        "                        if j == min_node and m[0] == i:\n",
        "                            if visited[i] == False and distance[i] > distance[min_node]:\n",
        "                                distance[i] = distance[min_node] + 1\n",
        "            visited[min_node] = True\n",
        "        return distance\n",
        "\n",
        "    # Method that implements Breadth-first Search\n",
        "    def bfs(self, node, counter):\n",
        "        visited = [0] * self.nodes\n",
        "        queue = []\n",
        "        queue.append(node)\n",
        "        visited[node] = counter\n",
        "\n",
        "        # While exist element wihtin the queue\n",
        "        while queue:\n",
        "            pop_node = queue.pop()\n",
        "            for j in self.get_adj_list(pop_node):\n",
        "                if visited[j[0]] == 0:\n",
        "                    counter += 1\n",
        "                    queue.append(j[0])\n",
        "                    visited[j[0]] = counter\n",
        "        return visited\n",
        "\n",
        "    # Implementation of iterative Depth-First Search\n",
        "    def non_recursive_dfs(self, node):\n",
        "        visited = [False] * self.nodes\n",
        "        queue = []\n",
        "        visited.append(node) \n",
        "        queue.append(node)\n",
        "\n",
        "        while queue:\n",
        "            current = queue.pop()\n",
        "            # check if the node has been visited\n",
        "            if not visited[current]:\n",
        "                print(f'{current}', end=' ')\n",
        "                visited[current] = True\n",
        "\n",
        "            # Add the adjacency nodes of current in the queue\n",
        "            for j in self.get_adj_list(current):\n",
        "                if visited[j[0]] == 0:\n",
        "                    queue.append(j[0])\n",
        "\n",
        "    # Method that implements Depth-first search\n",
        "    def dfs(self, node, counter, visited):\n",
        "        visited[node] = counter\n",
        "        counter += 1\n",
        "        for j in self.get_adj_list(node):\n",
        "            # Check if the node has not been visited\n",
        "            if visited[j[0]] == 0:\n",
        "                self.dfs(j[0], counter, visited)\n",
        "            else:\n",
        "                continue\n",
        "        return visited\n",
        "\n",
        "    def isCyclicUtil(self, node, visited, parent):\n",
        "        visited[node] = True\n",
        "        for i in self.get_adj_list(node):\n",
        "            if not visited[i[0]]:\n",
        "                if self.isCyclicUtil(i[0], visited, node):\n",
        "                    return True\n",
        "                # if 'i' adjacency node is already visited, and this node\n",
        "                # it's not parent of previous node, so there is a cycle in this graph\n",
        "            elif parent != i[0]:\n",
        "                return True\n",
        "        return False\n",
        "\n",
        "    def isCyclic(self):\n",
        "        visited = [False] * self.nodes\n",
        "        for j in range(self.nodes):\n",
        "            if not visited[j]:\n",
        "                if self.isCyclicUtil(j, visited, -1):\n",
        "                    return True\n",
        "        return False\n",
        "\n",
        "    ## Check an existence of any edge\n",
        "    def isEdge_exist(self, source, dest):\n",
        "        # Check if edge is valid\n",
        "        if source < 0 or source > self.nodes or dest < 0 or dest >= self.nodes:    \n",
        "            return False\n",
        "        j = 0\n",
        "        try:\n",
        "            while self.edges[source][j][0] != dest:\n",
        "                j = j + 1\n",
        "            if self.edges[source][j][0] == dest:                                    \n",
        "                return True\n",
        "            else:\n",
        "                return False\n",
        "        except IndexError:\n",
        "            return False   \n",
        "\n",
        "    ## Check if the graph is directed\n",
        "    def get_isDirected(self):\n",
        "        return self.isDirected\n",
        "\n",
        "    ## Remove any edge of the graph\n",
        "    def remove_edge(self, source, dest, isDirected):\n",
        "        if self.nodes == 0:                                                      \n",
        "            return\n",
        "        if source < 0 or source >= self.nodes or dest < 0 or dest >= self.nodes:  \n",
        "            return\n",
        "        if not self.isWeighted:                                                   \n",
        "            j = 0\n",
        "            # Search edge in the array of edges[source] with the destiny node search\n",
        "            while self.edges[source][j] != dest:                                    \n",
        "              j += 1\n",
        "              if j >= len(self.edges[source]):                                       \n",
        "                print(\"Edge not found!\\n\")\n",
        "                return\n",
        "            # Remove the edge\n",
        "            del self.edges[source][j]   \n",
        "            # if it's not directed, the process repeat simmetrically \n",
        "            if not self.isDirected:                                                       \n",
        "                self.remove_edge(dest, source, True)\n",
        "         # if not weighted, remove followint this approach\n",
        "        else:                                          \n",
        "            j = 0\n",
        "            # Procura a aresta por meio do item destino(posição 0 do subarray) \n",
        "            # no array do vertice de origem\n",
        "            while self.edges[source][j][0] != dest:     \n",
        "                j += 1\n",
        "                 # If not found\n",
        "                if j >= len(self.edges[source]):       \n",
        "                    print(\"This edge doesn't exist!\\n\")\n",
        "                    return\n",
        "            # Remove the edge\n",
        "            del self.edges[source][j]                  \n",
        "           # if it's not directed, the process repeat simmetrically  \n",
        "            if not self.isWeighted:                          \n",
        "                self.remove_edge(dest, source, True)"
      ]
    },
    {
      "cell_type": "markdown",
      "source": [
        "## Depth First Search Test"
      ],
      "metadata": {
        "id": "fgIq2yXLLmb0"
      }
    },
    {
      "cell_type": "code",
      "source": [
        "import networkx as nx\n",
        "\n",
        "nodes = {0: 'A', 1: 'B', 2: 'C', 3:'D', 4:'E', 5:'F', 6:'G', 7:'H'}\n",
        "\n",
        "# Create a graph with 8 node\n",
        "gr = Graph(8, False, True)\n",
        "gr.insert_edge(0, 1)\n",
        "gr.insert_edge(0, 4)\n",
        "gr.insert_edge(0, 5)\n",
        "gr.insert_edge(1, 0)\n",
        "gr.insert_edge(2, 6)\n",
        "gr.insert_edge(2, 3)\n",
        "gr.insert_edge(2, 5)\n",
        "gr.insert_edge(3, 7)\n",
        "gr.insert_edge(3, 6)\n",
        "gr.insert_edge(3, 2)\n",
        "gr.insert_edge(4, 0)\n",
        "gr.insert_edge(5, 0)\n",
        "gr.insert_edge(5, 6)\n",
        "gr.insert_edge(5, 2)\n",
        "gr.insert_edge(6, 3)\n",
        "gr.insert_edge(6, 5)\n",
        "gr.insert_edge(6, 2)\n",
        "gr.insert_edge(7, 3)\n",
        "\n",
        "\n",
        "visited = [0] * gr.get_n_nodes()\n",
        "\n",
        "source = 0\n",
        "depth = gr.dfs(source, 1, visited)\n",
        "print(f'Source:{nodes.get(source)}\\nNode\\tDepth')\n",
        "for i in range(gr.get_n_nodes()):\n",
        "    print(f'{nodes.get(i)}\\t\\t\\t{depth[i]}')\n",
        "\n",
        "## Plot the graph \n",
        "g = nx.DiGraph() \n",
        "for i in range(gr.get_n_nodes()):\n",
        "    for j in gr.get_adj_list(i):\n",
        "        g.add_edge(nodes.get(i), nodes.get(j[0]))\n",
        "nx.draw(g, with_labels = True, node_color='green')\n",
        "\n",
        "del gr"
      ],
      "metadata": {
        "id": "fpwvyeJaNDvm",
        "colab": {
          "base_uri": "https://localhost:8080/",
          "height": 493
        },
        "outputId": "2b792b68-02a1-479e-d836-48c0f12dbeb6"
      },
      "execution_count": 5,
      "outputs": [
        {
          "output_type": "stream",
          "name": "stdout",
          "text": [
            "Source:A\n",
            "Node\tDepth\n",
            "A\t\t\t1\n",
            "B\t\t\t2\n",
            "C\t\t\t5\n",
            "D\t\t\t4\n",
            "E\t\t\t2\n",
            "F\t\t\t2\n",
            "G\t\t\t3\n",
            "H\t\t\t5\n"
          ]
        },
        {
          "output_type": "display_data",
          "data": {
            "text/plain": [
              "<Figure size 432x288 with 1 Axes>"
            ],
            "image/png": "[encoded data removed]"
          },
          "metadata": {}
        }
      ]
    },
    {
      "cell_type": "markdown",
      "source": [
        "## Breadth First Search Test\n"
      ],
      "metadata": {
        "id": "DKIZ-gmoMtC9"
      }
    },
    {
      "cell_type": "code",
      "source": [
        "import networkx as nx\n",
        "\n",
        "nodes = {0: 'A', 1: 'B', 2: 'C', 3:'D', 4:'E', 5:'F', 6:'G', 7:'H'}\n",
        "\n",
        "# Plot the graph\n",
        "gr = Graph(8, False, True)\n",
        "gr.insert_edge(0, 1)\n",
        "gr.insert_edge(0, 4)\n",
        "gr.insert_edge(0, 5)\n",
        "gr.insert_edge(1, 0)\n",
        "gr.insert_edge(2, 6)\n",
        "gr.insert_edge(2, 3)\n",
        "gr.insert_edge(2, 5)\n",
        "gr.insert_edge(3, 7)\n",
        "gr.insert_edge(3, 6)\n",
        "gr.insert_edge(3, 2)\n",
        "gr.insert_edge(4, 0)\n",
        "gr.insert_edge(5, 0)\n",
        "gr.insert_edge(5, 6)\n",
        "gr.insert_edge(5, 2)\n",
        "gr.insert_edge(6, 3)\n",
        "gr.insert_edge(6, 5)\n",
        "gr.insert_edge(6, 2)\n",
        "gr.insert_edge(7, 3)\n",
        "\n",
        "\n",
        "source = 0\n",
        "order = gr.bfs(source, 1)\n",
        "print(f'Source: {nodes.get(source)}\\nNode\\tVisit Order')\n",
        "for i in range(gr.get_n_nodes()):\n",
        "    print(f'{nodes.get(i)} \\t\\t\\t{order[i]}º')\n",
        "\n",
        "\n",
        "## Plot the graph\n",
        "g = nx.DiGraph() \n",
        "for i in range(gr.get_n_nodes()):\n",
        "    for j in gr.get_adj_list(i):\n",
        "        g.add_edge(nodes.get(i), nodes.get(j[0]))\n",
        "        \n",
        "nx.draw(g, with_labels = True, node_color='red')\n",
        "\n",
        "del gr"
      ],
      "metadata": {
        "id": "bJVj5h0qNE1C",
        "colab": {
          "base_uri": "https://localhost:8080/",
          "height": 493
        },
        "outputId": "bee5bb43-e742-4264-daf3-468e18b577ca"
      },
      "execution_count": 6,
      "outputs": [
        {
          "output_type": "stream",
          "name": "stdout",
          "text": [
            "Source: A\n",
            "Node\tVisit Order\n",
            "A \t\t\t1º\n",
            "B \t\t\t2º\n",
            "C \t\t\t6º\n",
            "D \t\t\t7º\n",
            "E \t\t\t3º\n",
            "F \t\t\t4º\n",
            "G \t\t\t5º\n",
            "H \t\t\t8º\n"
          ]
        },
        {
          "output_type": "display_data",
          "data": {
            "text/plain": [
              "<Figure size 432x288 with 1 Axes>"
            ],
            "image/png": "[encoded data removed]"
          },
          "metadata": {}
        }
      ]
    },
    {
      "cell_type": "markdown",
      "source": [
        "## Dijkstra Algorithm Test"
      ],
      "metadata": {
        "id": "OW1r3HLnMz9G"
      }
    },
    {
      "cell_type": "code",
      "source": [
        "import networkx as nx\n",
        "\n",
        "nodes = {0: 'A', 1: 'B', 2: 'C', 3:'D', 4:'E', 5:'F', 6:'G', 7:'H'}\n",
        "\n",
        "# Create a graph with 8 node\n",
        "gr = Graph(8, False, True)\n",
        "gr.insert_edge(0, 1)\n",
        "gr.insert_edge(0, 4)\n",
        "gr.insert_edge(0, 5)\n",
        "gr.insert_edge(1, 0)\n",
        "gr.insert_edge(2, 6)\n",
        "gr.insert_edge(2, 3)\n",
        "gr.insert_edge(2, 5)\n",
        "gr.insert_edge(3, 7)\n",
        "gr.insert_edge(3, 6)\n",
        "gr.insert_edge(3, 2)\n",
        "gr.insert_edge(4, 0)\n",
        "gr.insert_edge(5, 0)\n",
        "gr.insert_edge(5, 6)\n",
        "gr.insert_edge(5, 2)\n",
        "gr.insert_edge(6, 3)\n",
        "gr.insert_edge(6, 5)\n",
        "gr.insert_edge(6, 2)\n",
        "gr.insert_edge(7, 3)\n",
        "\n",
        "source = 0\n",
        "distance = gr.dijkstra(source)\n",
        "print('Source\\tDestiny\\tdistance')\n",
        "\n",
        "for i in range(gr.get_n_nodes()):\n",
        "    print(f'{nodes.get(source)}\\t\\t\\t\\t{nodes.get(i)}\\t\\t\\t{distance[i]}')\n",
        "\n",
        "\n",
        "## Plot the graph\n",
        "g = nx.DiGraph() \n",
        "for i in range(gr.get_n_nodes()):\n",
        "    for j in gr.get_adj_list(i):\n",
        "        g.add_edge(nodes.get(i), nodes.get(j[0]))\n",
        "nx.draw(g, with_labels = True)\n",
        "\n",
        "del gr"
      ],
      "metadata": {
        "id": "gGJetzB8NGD6",
        "colab": {
          "base_uri": "https://localhost:8080/",
          "height": 475
        },
        "outputId": "655c475a-3a5b-4269-fc51-62c4d8d98eb8"
      },
      "execution_count": 7,
      "outputs": [
        {
          "output_type": "stream",
          "name": "stdout",
          "text": [
            "Source\tDestiny\tdistance\n",
            "A\t\t\t\tA\t\t\t0\n",
            "A\t\t\t\tB\t\t\t1\n",
            "A\t\t\t\tC\t\t\t2\n",
            "A\t\t\t\tD\t\t\t3\n",
            "A\t\t\t\tE\t\t\t1\n",
            "A\t\t\t\tF\t\t\t1\n",
            "A\t\t\t\tG\t\t\t2\n",
            "A\t\t\t\tH\t\t\t4\n"
          ]
        },
        {
          "output_type": "display_data",
          "data": {
            "text/plain": [
              "<Figure size 432x288 with 1 Axes>"
            ],
            "image/png": "[encoded data removed]"
          },
          "metadata": {}
        }
      ]
    },
    {
      "cell_type": "markdown",
      "source": [
        "## Non-recursive DFS "
      ],
      "metadata": {
        "id": "RKguT2jA8rrP"
      }
    },
    {
      "cell_type": "code",
      "source": [
        "import networkx as nx\n",
        "\n",
        "# Create a graph with 7 nodes\n",
        "gr = Graph(7, False, True)\n",
        "gr.insert_edge(0, 1)\n",
        "gr.insert_edge(0, 2)\n",
        "gr.insert_edge(1, 3)\n",
        "gr.insert_edge(1, 4)\n",
        "gr.insert_edge(2, 5)\n",
        "gr.insert_edge(2, 6)\n",
        "\n",
        "source = 0\n",
        "depth = gr.non_recursive_dfs(source)\n",
        "\n",
        "# Plot the graph\n",
        "g = nx.DiGraph() \n",
        "for i in range(gr.get_n_nodes()):\n",
        "    for j in gr.get_adj_list(i):\n",
        "        g.add_edge(i, j[0])\n",
        "nx.draw(g, with_labels = True)\n",
        "\n",
        "del gr"
      ],
      "metadata": {
        "id": "QfZsJW5b8wHZ",
        "colab": {
          "base_uri": "https://localhost:8080/",
          "height": 336
        },
        "outputId": "cfd7238b-c3be-4151-8613-6aaadd00de0b"
      },
      "execution_count": 8,
      "outputs": [
        {
          "output_type": "stream",
          "name": "stdout",
          "text": [
            "0 2 6 5 1 4 3 "
          ]
        },
        {
          "output_type": "display_data",
          "data": {
            "text/plain": [
              "<Figure size 432x288 with 1 Axes>"
            ],
            "image/png": "[encoded data removed]"
          },
          "metadata": {}
        }
      ]
    }
  ],
  "metadata": {
    "colab": {
      "collapsed_sections": [],
      "provenance": []
    },
    "kernelspec": {
      "display_name": "Python 3",
      "name": "python3"
    },
    "language_info": {
      "name": "python"
    }
  },
  "nbformat": 4,
  "nbformat_minor": 0
}